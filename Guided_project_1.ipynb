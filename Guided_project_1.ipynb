{
  "cells": [
    {
      "cell_type": "markdown",
      "source": [
        "# Chapter 1\n",
        "### Your first day at your new job 👩‍💻👨‍💻\n",
        "\n",
        "You are starting a new job as a junior software developer in an IT company. \n",
        "\n",
        "The company’s HR department asks you to fill out a form, so you start by assigning your personal information to corresponding variables.\n",
        "\n",
        "📌 Create a variable for your name, surname, age, ID number, place of residence, to specify if you have active health insurance or not, and lastly one for specifying your nationality.\n"
      ],
      "metadata": {
        "id": "VMuUK0ap_bRD"
      }
    },
    {
      "cell_type": "code",
      "execution_count": null,
      "metadata": {
        "id": "OPLhhc2Sp-D0"
      },
      "outputs": [],
      "source": [
        "#Please assign your personal information to variables\n",
        "name = 'Joey'\n",
        "surname = 'Tribbiani'\n",
        "age = 25\n",
        "ID = 3169\n",
        "place_of_residence = 'London'\n",
        "health_insurance = False\n",
        "nationality = 'England'"
      ]
    },
    {
      "cell_type": "markdown",
      "metadata": {
        "id": "3zaUlxwcp-D0"
      },
      "source": [
        "###Meet And Greet\n",
        "Introduce yourself to your new co-workers.\n",
        "\n",
        "📌 Use a f-string to print \"My name is Joey Tribbiani I am 25 years old and I live in London”."
      ]
    },
    {
      "cell_type": "code",
      "source": [
        "#Write a sentence using the print function to describe yourself using the variables above in the correct data type\n",
        "print(f'My name is {name} {surname} I am {age} years old and I live in {place_of_residence}')"
      ],
      "metadata": {
        "id": "XNuh5_2WXwvg",
        "colab": {
          "base_uri": "https://localhost:8080/"
        },
        "outputId": "66f46028-d8c1-4490-80dc-0fd1f648a1fa"
      },
      "execution_count": null,
      "outputs": [
        {
          "output_type": "stream",
          "name": "stdout",
          "text": [
            "My name is Joey Tribbiani I am 25 years old and I live in London\n"
          ]
        }
      ]
    },
    {
      "cell_type": "markdown",
      "metadata": {
        "id": "EEL9To4ip-D1"
      },
      "source": [
        "### Equipment starter pack\n",
        "The HR department asks you to list the items you would need to improve your work efficiency\n",
        "\n",
        "Mandatory:\n",
        "* Laptop\n",
        "* Headset\n",
        "* Second monitor\n",
        "\n",
        "Optional:\n",
        "* Mousepad\n",
        "* USB drive\n",
        "* External drive\n",
        "\n",
        "\n",
        "📌 Create a shopping list that contains items above and print it."
      ]
    },
    {
      "cell_type": "code",
      "execution_count": null,
      "metadata": {
        "id": "fPFBLDyqp-D2"
      },
      "outputs": [],
      "source": [
        "#Create the item_list\n",
        "item_list = ['Laptop', 'Headset', 'Second monitor', 'Mousepad', 'USB drive', 'External drive']"
      ]
    },
    {
      "cell_type": "code",
      "source": [
        "#Print the list\n",
        "print(item_list)"
      ],
      "metadata": {
        "id": "358R_CN5U2-J",
        "colab": {
          "base_uri": "https://localhost:8080/"
        },
        "outputId": "9cb44b49-5594-4e44-b6c4-c507b4b24257"
      },
      "execution_count": null,
      "outputs": [
        {
          "output_type": "stream",
          "name": "stdout",
          "text": [
            "['Laptop', 'Headset', 'Second monitor', 'Mousepad', 'USB drive', 'External drive']\n"
          ]
        }
      ]
    },
    {
      "cell_type": "markdown",
      "metadata": {
        "id": "5keEWjCyp-D2"
      },
      "source": [
        "####What is mandatory and what is optional?\n",
        "\n",
        "📌 Use list slicing to devide your list in two list: 'mandatory_item_list' and 'optional_item_list' and print both to the screen."
      ]
    },
    {
      "cell_type": "code",
      "execution_count": null,
      "metadata": {
        "id": "E6ewuDYZp-D2"
      },
      "outputs": [],
      "source": [
        "#Use list slicing to divide the mandatory items\n",
        "mandatory_item_list = item_list[:3]"
      ]
    },
    {
      "cell_type": "code",
      "source": [
        "#Use list slicing to divide the optional items\n",
        "optional_item_list = item_list[3:]"
      ],
      "metadata": {
        "id": "hOmkym01RGEL"
      },
      "execution_count": null,
      "outputs": []
    },
    {
      "cell_type": "code",
      "source": [
        "#Print both to the screen\n",
        "print(mandatory_item_list)\n",
        "print(optional_item_list)"
      ],
      "metadata": {
        "id": "xsVv1_msVE1_",
        "colab": {
          "base_uri": "https://localhost:8080/"
        },
        "outputId": "70b47d9c-14e5-4baf-e82a-f8dd4857895b"
      },
      "execution_count": null,
      "outputs": [
        {
          "output_type": "stream",
          "name": "stdout",
          "text": [
            "['Laptop', 'Headset', 'Second monitor']\n",
            "['Mousepad', 'USB drive', 'External drive']\n"
          ]
        }
      ]
    },
    {
      "cell_type": "markdown",
      "metadata": {
        "id": "s_M1Q93wp-D3"
      },
      "source": [
        "#### Go Shopping\n",
        "Next, you will have to go and purchase these items, the finance department confirmed a budget of $5000.\n",
        "\n",
        "📌 Assign 5000 to a variable called limit, so you know how much you can spend."
      ]
    },
    {
      "cell_type": "code",
      "execution_count": null,
      "metadata": {
        "id": "nCmpm0oqp-D3"
      },
      "outputs": [],
      "source": [
        "#Assign the spending limit value to a variable called limit\n",
        "limit = 5000"
      ]
    },
    {
      "cell_type": "markdown",
      "metadata": {
        "id": "VwbEEymVp-D3"
      },
      "source": [
        "####Price dictionary\n",
        "\n",
        "Before you start shopping yo need to find the best items that you can buy within the company budget. \n",
        "\n",
        "📌 Prepare a dictionary called “price_sheet” that includes the items as keys and the prices as values.  \n",
        " "
      ]
    },
    {
      "cell_type": "code",
      "execution_count": null,
      "metadata": {
        "id": "9o9n9Ag-p-D3"
      },
      "outputs": [],
      "source": [
        "#Create a dictionary that contains each item and its price\n",
        "price_sheet = {'Laptop' : 1500\n",
        "               ,'Headset' : 500\n",
        "               ,'Second monitor' : 700\n",
        "               ,'Mousepad' : 50\n",
        "               ,'USB drive' : 50\n",
        "               ,'External drive' : 100}"
      ]
    },
    {
      "cell_type": "markdown",
      "metadata": {
        "id": "rUYivBVEBhCv"
      },
      "source": [
        "####Shopping functions\n",
        "\n",
        "You need to define three functions that will help you during shopping.\n",
        "\n",
        "📌 First, create an empty list that  will be your shopping cart. Here you will add the items you need to purchase.\n",
        "\n",
        "1. Define a function for both adding items to the cart and removing them from the item_list.\n",
        "\n",
        "📌 The \"add_to_cart\" function should take the item name and the quantity to buy as an argument. \n",
        "\n",
        "2. Define a function that will create an invoice. \n",
        "\n",
        "📌 The \"create_invoice\" function should calculate the taxes of each item (18%) and add it to the total amount.\n",
        "\n",
        "3. Define a function for the checkout. \n",
        "\n",
        "📌 The \"checkout\" function should subtract the total amount from the budget and print a statement to inform if the payment was successful. "
      ]
    },
    {
      "cell_type": "code",
      "source": [
        "#Initialize the cart list\n",
        "cart = []"
      ],
      "metadata": {
        "id": "dBNZ2ZdkGHUe"
      },
      "execution_count": null,
      "outputs": []
    },
    {
      "cell_type": "code",
      "source": [
        "#Define the \"add_to_cart\" function\n",
        "def add_to_cart(items, quantity):\n",
        "  cart.append((items, quantity))\n",
        "  item_list.remove(items)"
      ],
      "metadata": {
        "id": "HH26hHHFGKPJ"
      },
      "execution_count": null,
      "outputs": []
    },
    {
      "cell_type": "code",
      "source": [
        "#Define the \"create_invoice\" function\n",
        "def create_invoice():\n",
        "  total_amount_price = 0\n",
        "  for item, amount in cart:\n",
        "    price = price_sheet[item]\n",
        "    tax = price * 0.18\n",
        "    taxed_price = (tax + price) * amount\n",
        "    total_amount_price += taxed_price\n",
        "    print(f'Item: {item}\\tPrice: {price}\\tTax: {tax}\\tTotal: {taxed_price}')\n",
        "  print(f'\\nTotal price after taxes applied: {total_amount_price}')\n",
        "  return total_amount_price"
      ],
      "metadata": {
        "id": "TUmNr4xVGQdm"
      },
      "execution_count": null,
      "outputs": []
    },
    {
      "cell_type": "code",
      "source": [
        "#Define the \"checkout\" function\n",
        "def checkout():\n",
        "  global limit\n",
        "  total = create_invoice()\n",
        "  if limit == 0:\n",
        "    print(\"You don't have any budget left...\")\n",
        "  elif total > limit:\n",
        "    print(\"Exceeded limit, drop some items to proceed...\")\n",
        "  else:\n",
        "    limit -= total\n",
        "    print(f'Purchase total: {total}\\nRemaining limit: {limit}')"
      ],
      "metadata": {
        "id": "iUlKiXgMGdIk"
      },
      "execution_count": null,
      "outputs": []
    },
    {
      "cell_type": "markdown",
      "source": [
        "Let's shop!"
      ],
      "metadata": {
        "id": "2IFUlu0yB0In"
      }
    },
    {
      "cell_type": "code",
      "source": [
        "#Call the \"add_to_cart\" function for each item\n",
        "\n",
        "#Add first item to cart\n",
        "add_to_cart('Laptop', 1)\n",
        " \n",
        "#Add second item to cart\n",
        "add_to_cart('Headset', 1)\n",
        " \n",
        "#Add third item to cart\n",
        "add_to_cart('Second monitor', 1)\n",
        " \n",
        "#Add fourth item to cart\n",
        "add_to_cart('Mousepad', 1)\n",
        " \n",
        "#Add fifth item to cart\n",
        "add_to_cart('USB drive', 1)\n",
        " \n",
        "#Add last item to cart\n",
        "add_to_cart('External drive', 1)\n",
        " \n",
        "#Call the create \"checkout\" function to pay for all your items \n",
        "checkout()"
      ],
      "metadata": {
        "id": "FDO7CRJTWPg7",
        "colab": {
          "base_uri": "https://localhost:8080/"
        },
        "outputId": "61930def-ecae-421d-9c97-ad5de6c069f2"
      },
      "execution_count": null,
      "outputs": [
        {
          "output_type": "stream",
          "name": "stdout",
          "text": [
            "Item: Laptop\tPrice: 1500\tTax: 270.0\tTotal: 1770.0\n",
            "Item: Headset\tPrice: 500\tTax: 90.0\tTotal: 590.0\n",
            "Item: Second monitor\tPrice: 700\tTax: 126.0\tTotal: 826.0\n",
            "Item: Mousepad\tPrice: 50\tTax: 9.0\tTotal: 59.0\n",
            "Item: USB drive\tPrice: 50\tTax: 9.0\tTotal: 59.0\n",
            "Item: External drive\tPrice: 100\tTax: 18.0\tTotal: 118.0\n",
            "\n",
            "Total price after taxes applied: 3422.0\n",
            "Purchase total: 3422.0\n",
            "Remaining limit: 1578.0\n"
          ]
        }
      ]
    },
    {
      "cell_type": "markdown",
      "source": [
        "###Game Night\n",
        "\n",
        "You are back at the office and the HR department organizes a welcome party for new employees. \n",
        "\n",
        "You decide to create a Rock-Paper-Scissor game. \n",
        "\n",
        "📌 Create a Rock-Paper-Scissor game in which the user plays against the computer. The player will choose one of the actions, and the computer will choose its action randomly.\n"
      ],
      "metadata": {
        "id": "ZL-r2x_xKixg"
      }
    },
    {
      "cell_type": "code",
      "source": [
        "#Import the random library\n",
        "import random"
      ],
      "metadata": {
        "id": "qzD5pxBTgcFb"
      },
      "execution_count": null,
      "outputs": []
    },
    {
      "cell_type": "code",
      "source": [
        "#create a list containing the three actions of the game.\n",
        "actions = ['Rock', 'Paper', 'Scissor']"
      ],
      "metadata": {
        "id": "oJv-ihLAgcRo"
      },
      "execution_count": null,
      "outputs": []
    },
    {
      "cell_type": "code",
      "source": [
        "#Set the scores of players to 0\n",
        "user_score = 0\n",
        "computer_score = 0\n",
        "#Ask the user how many rounds they want to play\n",
        "round_number = int(input('How many rounds do you want to play: '))\n",
        "\n",
        "#Add a round_counter that is 0 at the beginning\n",
        "round_counter = 0\n",
        "\n",
        "#Write a while loop and put the game inside\n",
        "while True:\n",
        "  #Select a random action for computer\n",
        "  computer_action = random.choice(actions)\n",
        "\n",
        "  #Ask player to choose an action\n",
        "  player_choice = input('Please select an action: ')\n",
        "  \n",
        "  try:\n",
        "    #Print the players choices\n",
        "    #Trying to get the index for getting and handling exceptions (since the program will accept any kind of strings...)\n",
        "    actions_index = actions.index(player_choice)\n",
        "    print(f'Player has selected {player_choice} (index: {actions_index})')\n",
        "\n",
        "    #Increase round_counter by and print it\n",
        "    round_counter += 1\n",
        "    print(round_counter)\n",
        "\n",
        "    #tie condition\n",
        "    if computer_action == player_choice:\n",
        "      print(\"It's a tie!\")\n",
        "    \n",
        "    #Remaining conditions\n",
        "    if player_choice == 'Paper':\n",
        "      if computer_action == 'Rock':\n",
        "        print(f'{player_choice} wins over {computer_action}')\n",
        "        user_score += 1\n",
        "      else:\n",
        "        print(f'{computer_action} wins over {player_choice}')\n",
        "        computer_score += 1\n",
        "\n",
        "    if player_choice == 'Scissors':\n",
        "      if computer_action == 'Rock':\n",
        "        print(f'{computer_action} wins over {player_choice}')\n",
        "        computer_score += 1\n",
        "      else:\n",
        "        print(f'{player_choice} wins over {computer_action}')\n",
        "        user_score += 1\n",
        "\n",
        "    if player_choice == 'Rock':\n",
        "      if computer_action == 'Paper':\n",
        "        print(f'{computer_action} wins over {player_choice}')\n",
        "        computer_score += 1\n",
        "      else:\n",
        "        print(f'{player_choice} wins over {computer_action}')\n",
        "        user_score += 1\n",
        "  except:\n",
        "    print('Player has made an invalid choice!')\n",
        "  #Stop the while loop if the round_counter equals the number of total rounds\n",
        "  if round_counter == round_number:\n",
        "    break\n",
        "\n",
        "#Print the outcome of the game by using conditional statements\n",
        "if user_score > computer_score:\n",
        "  print(f'Player has won the game by {user_score}-{computer_score}')\n",
        "elif user_score == computer_score:\n",
        "  print(f'The game ended as a draw by {user_score}-{computer_score}')\n",
        "else:\n",
        "  print(f'Player has lost the game by {user_score}-{computer_score}')"
      ],
      "metadata": {
        "id": "DNUa_9afWqMd",
        "colab": {
          "base_uri": "https://localhost:8080/"
        },
        "outputId": "49fb816a-961f-4bcf-9a6b-22b6b70992b5"
      },
      "execution_count": null,
      "outputs": [
        {
          "output_type": "stream",
          "name": "stdout",
          "text": [
            "How many rounds do you want to play: 3\n",
            "Please select an action: Rock\n",
            "Player has selected Rock (index: 0)\n",
            "1\n",
            "Rock wins over Scissor\n",
            "Please select an action: Paper\n",
            "Player has selected Paper (index: 1)\n",
            "2\n",
            "Paper wins over Rock\n",
            "Please select an action: Rock\n",
            "Player has selected Rock (index: 0)\n",
            "3\n",
            "Rock wins over Scissor\n",
            "Player has won the game by 3-0\n"
          ]
        }
      ]
    },
    {
      "cell_type": "markdown",
      "metadata": {
        "id": "jdrYN0Xgp-D6"
      },
      "source": [
        "# Your first task \n",
        "\n",
        "Rachel asks you to write a program to track the name and revenue each employee brings.  \n",
        "\n",
        "* Create the \"salesperson_revenue\" dictionary to see the employee name as a key and the revenue as a value.\n",
        "\n",
        "  📌 Every employee starts with 0 revenue.\n",
        "* Define the \"enter_revenue\" function. \n",
        "\n",
        "  📌 The function takes the name and revenue as an argument and updates the salesperson_revenue dictionary.\n"
      ]
    },
    {
      "cell_type": "code",
      "source": [
        "#Create salesperson_revenue dictionary\n",
        "salesperson_revenue = {'Mark' : 0,\n",
        "                       'Berg' : 0,\n",
        "                       'Elon' : 0,\n",
        "                       'Joe' : 0,\n",
        "                       'David' : 0,\n",
        "                       'Jocko' : 0}"
      ],
      "metadata": {
        "id": "3vzRo7hyMRv2"
      },
      "execution_count": 2,
      "outputs": []
    },
    {
      "cell_type": "code",
      "source": [
        "#Define enter_revenue function\n",
        "def enter_revenue(name, revenue):\n",
        "  global salesperson_revenue\n",
        "  salesperson_revenue[name] += revenue"
      ],
      "metadata": {
        "id": "m-8IozBwMRzM"
      },
      "execution_count": 3,
      "outputs": []
    },
    {
      "cell_type": "markdown",
      "source": [
        "####Try out the functions\n",
        "* In a while loop ask the user to give the name of the employee and for the revenue \n",
        "\n",
        "  📌 If the user enters “quit” the loop should break.\n",
        "\n",
        "After that, print out the salesperson_revenue dictionary.\n"
      ],
      "metadata": {
        "id": "UnTGSoNTi58u"
      }
    },
    {
      "cell_type": "code",
      "source": [
        "#Asking user employee name as input\n",
        "while True:\n",
        "  name = input('Employee name: ')\n",
        "  try:\n",
        "    if name == 'quit':\n",
        "      break\n",
        "    print(name,\"'s current revenue is\", salesperson_revenue[name])\n",
        "    revenue = int(input('Update revenue: '))\n",
        "    enter_revenue(name, revenue)\n",
        "    print(f'Employee: {name} \\t Revenue: {revenue}')\n",
        "  except:\n",
        "    print('No such employee exists on the dictionary...')"
      ],
      "metadata": {
        "id": "2E549VvFXNi6",
        "colab": {
          "base_uri": "https://localhost:8080/"
        },
        "outputId": "deb566ec-5709-441f-af99-3ac8d7f006f9"
      },
      "execution_count": 5,
      "outputs": [
        {
          "name": "stdout",
          "output_type": "stream",
          "text": [
            "Employee name: JJ\n",
            "No such employee exists on the dictionary...\n",
            "Employee name: hjhjh\n",
            "No such employee exists on the dictionary...\n",
            "Employee name: Jocko\n",
            "Jocko 's current revenue is 0\n",
            "Update revenue: 5000\n",
            "Employee: Jocko \t Revenue: 5000\n",
            "Employee name: David\n",
            "David 's current revenue is 0\n",
            "Update revenue: 4000\n",
            "Employee: David \t Revenue: 4000\n",
            "Employee name: Elon\n",
            "Elon 's current revenue is 0\n",
            "Update revenue: 1000\n",
            "Employee: Elon \t Revenue: 1000\n",
            "Employee name: Joe\n",
            "Joe 's current revenue is 0\n",
            "Update revenue: 3000\n",
            "Employee: Joe \t Revenue: 3000\n",
            "Employee name: Mark\n",
            "Mark 's current revenue is 0\n",
            "Update revenue: 250\n",
            "Employee: Mark \t Revenue: 250\n",
            "Employee name: Berg\n",
            "Berg 's current revenue is 0\n",
            "Update revenue: 50\n",
            "Employee: Berg \t Revenue: 50\n",
            "Employee name: quit\n"
          ]
        }
      ]
    },
    {
      "cell_type": "code",
      "source": [
        "#Print the salesperson_revenue dictionary\n",
        "print(salesperson_revenue)"
      ],
      "metadata": {
        "id": "OAvl9rgOXPe6",
        "colab": {
          "base_uri": "https://localhost:8080/"
        },
        "outputId": "374503e4-1320-450e-c4a6-d19d8f87b8e5"
      },
      "execution_count": 6,
      "outputs": [
        {
          "output_type": "stream",
          "name": "stdout",
          "text": [
            "{'Mark': 250, 'Berg': 50, 'Elon': 1000, 'Joe': 3000, 'David': 4000, 'Jocko': 5000}\n"
          ]
        }
      ]
    },
    {
      "cell_type": "code",
      "source": [],
      "metadata": {
        "id": "j4OhPLkZc3-M"
      },
      "execution_count": null,
      "outputs": []
    }
  ],
  "metadata": {
    "interpreter": {
      "hash": "c5914ae3790566b9cd0e984a9bdda42a29da8adf046b5ac0173e0d37aacf3dab"
    },
    "kernelspec": {
      "display_name": "Python 3.9.7",
      "language": "python",
      "name": "python3"
    },
    "language_info": {
      "codemirror_mode": {
        "name": "ipython",
        "version": 3
      },
      "file_extension": ".py",
      "mimetype": "text/x-python",
      "name": "python",
      "nbconvert_exporter": "python",
      "pygments_lexer": "ipython3",
      "version": "3.9.7"
    },
    "orig_nbformat": 4,
    "colab": {
      "provenance": []
    }
  },
  "nbformat": 4,
  "nbformat_minor": 0
}